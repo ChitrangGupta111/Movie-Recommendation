{
  "nbformat": 4,
  "nbformat_minor": 0,
  "metadata": {
    "colab": {
      "name": "Netflix Recommendation",
      "provenance": []
    },
    "kernelspec": {
      "name": "python3",
      "display_name": "Python 3"
    }
  },
  "cells": [
    {
      "cell_type": "markdown",
      "metadata": {
        "id": "Z-jZGC0q0aiY"
      },
      "source": [
        "# Eclat"
      ]
    },
    {
      "cell_type": "code",
      "source": [
        "!pip install apyori"
      ],
      "metadata": {
        "colab": {
          "base_uri": "https://localhost:8080/"
        },
        "id": "fCk2ckUe7aog",
        "outputId": "edb0b5cb-603b-488e-baec-ab57d9034278"
      },
      "execution_count": 1,
      "outputs": [
        {
          "output_type": "stream",
          "name": "stdout",
          "text": [
            "Looking in indexes: https://pypi.org/simple, https://us-python.pkg.dev/colab-wheels/public/simple/\n",
            "Collecting apyori\n",
            "  Downloading apyori-1.1.2.tar.gz (8.6 kB)\n",
            "Building wheels for collected packages: apyori\n",
            "  Building wheel for apyori (setup.py) ... \u001b[?25l\u001b[?25hdone\n",
            "  Created wheel for apyori: filename=apyori-1.1.2-py3-none-any.whl size=5974 sha256=c294762185221d97692dd84a3965ca458de8ae05829953dc1a689f49d4adde55\n",
            "  Stored in directory: /root/.cache/pip/wheels/cb/f6/e1/57973c631d27efd1a2f375bd6a83b2a616c4021f24aab84080\n",
            "Successfully built apyori\n",
            "Installing collected packages: apyori\n",
            "Successfully installed apyori-1.1.2\n"
          ]
        }
      ]
    },
    {
      "cell_type": "markdown",
      "metadata": {
        "id": "jE4Rc_OO0eJM"
      },
      "source": [
        "## Importing libraries"
      ]
    },
    {
      "cell_type": "code",
      "source": [
        "import numpy as np\n",
        "import matplotlib.pyplot as plt\n",
        "import pandas as pd"
      ],
      "metadata": {
        "id": "P3igXKBg7cfV"
      },
      "execution_count": 2,
      "outputs": []
    },
    {
      "cell_type": "markdown",
      "metadata": {
        "id": "A9-xGHd20gY1"
      },
      "source": [
        "## Importing dataset"
      ]
    },
    {
      "cell_type": "code",
      "source": [
        "dataset = pd.read_csv('Netflix Movie Recommendation .csv', header = None)\n",
        "transactions = []\n",
        "for i in range(0, 7466):\n",
        "  transactions.append([str(dataset.values[i,j]) for j in range(0, 20)])"
      ],
      "metadata": {
        "id": "4C26CAon7eae"
      },
      "execution_count": 4,
      "outputs": []
    },
    {
      "cell_type": "markdown",
      "metadata": {
        "id": "8REFJFGC0lRN"
      },
      "source": [
        "## Eclat Training on Dataset"
      ]
    },
    {
      "cell_type": "code",
      "source": [
        "from apyori import apriori\n",
        "rules = apriori(transactions = transactions, min_support = 0.003, min_confidence = 0.2, min_lift = 3, min_length = 2, max_length = 2)"
      ],
      "metadata": {
        "id": "dnjSZfvj8eMY"
      },
      "execution_count": 5,
      "outputs": []
    },
    {
      "cell_type": "markdown",
      "metadata": {
        "id": "-Dw4Khi70u9g"
      },
      "source": [
        "## Visualizing"
      ]
    },
    {
      "cell_type": "code",
      "source": [
        ""
      ],
      "metadata": {
        "id": "jPDnH4Ne8jp-"
      },
      "execution_count": null,
      "outputs": []
    },
    {
      "cell_type": "markdown",
      "metadata": {
        "id": "LMakVn8pt7Fk"
      },
      "source": [
        "### Raw Results"
      ]
    },
    {
      "cell_type": "code",
      "source": [
        "results = list(rules)"
      ],
      "metadata": {
        "id": "UXbKvsoW8r5f"
      },
      "execution_count": 6,
      "outputs": []
    },
    {
      "cell_type": "code",
      "source": [
        "results"
      ],
      "metadata": {
        "colab": {
          "base_uri": "https://localhost:8080/"
        },
        "id": "2nG4T6iA8toD",
        "outputId": "59e7699f-89bf-4472-f283-a6f8f5b171ec"
      },
      "execution_count": 7,
      "outputs": [
        {
          "output_type": "execute_result",
          "data": {
            "text/plain": [
              "[RelationRecord(items=frozenset({'Black Panther', 'Captain America'}), support=0.00334851326011251, ordered_statistics=[OrderedStatistic(items_base=frozenset({'Captain America'}), items_add=frozenset({'Black Panther'}), confidence=0.24509803921568626, lift=5.140174047146949)]),\n",
              " RelationRecord(items=frozenset({'Comedy nights with Kapil', 'Game of thrones'}), support=0.0032145727297080095, ordered_statistics=[OrderedStatistic(items_base=frozenset({'Game of thrones'}), items_add=frozenset({'Comedy nights with Kapil'}), confidence=0.20512820512820512, lift=3.1001764766946955)]),\n",
              " RelationRecord(items=frozenset({'Comedy nights with Kapil', 'Kanan Gill Comedy'}), support=0.008036431824270024, ordered_statistics=[OrderedStatistic(items_base=frozenset({'Kanan Gill Comedy'}), items_add=frozenset({'Comedy nights with Kapil'}), confidence=0.2714932126696833, lift=4.103174748566509)]),\n",
              " RelationRecord(items=frozenset({'Game of thrones', 'Prision Break'}), support=0.004553978033753014, ordered_statistics=[OrderedStatistic(items_base=frozenset({'Game of thrones'}), items_add=frozenset({'Prision Break'}), confidence=0.2905982905982906, lift=4.832086498010774)]),\n",
              " RelationRecord(items=frozenset({'Harry Potter 2', 'Harry Potter 1'}), support=0.0057594428073935175, ordered_statistics=[OrderedStatistic(items_base=frozenset({'Harry Potter 1'}), items_add=frozenset({'Harry Potter 2'}), confidence=0.36752136752136755, lift=4.642833383950135)]),\n",
              " RelationRecord(items=frozenset({'The Lord of the rings', 'Harry Potter 1'}), support=0.005089740155371015, ordered_statistics=[OrderedStatistic(items_base=frozenset({'Harry Potter 1'}), items_add=frozenset({'The Lord of the rings'}), confidence=0.3247863247863248, lift=4.523982650848323)]),\n",
              " RelationRecord(items=frozenset({'crimes of grindelwald', 'Harry Potter 2'}), support=0.0057594428073935175, ordered_statistics=[OrderedStatistic(items_base=frozenset({'crimes of grindelwald'}), items_add=frozenset({'Harry Potter 2'}), confidence=0.3006993006993007, lift=3.7986818595955647)]),\n",
              " RelationRecord(items=frozenset({'inception', 'Interstellar'}), support=0.015938923118135547, ordered_statistics=[OrderedStatistic(items_base=frozenset({'Interstellar'}), items_add=frozenset({'inception'}), confidence=0.3216216216216216, lift=3.262536721504113)]),\n",
              " RelationRecord(items=frozenset({'inception', 'The Wolf of Wall Street'}), support=0.005357621216180016, ordered_statistics=[OrderedStatistic(items_base=frozenset({'The Wolf of Wall Street'}), items_add=frozenset({'inception'}), confidence=0.3773584905660377, lift=3.8279327317473335)])]"
            ]
          },
          "metadata": {},
          "execution_count": 7
        }
      ]
    },
    {
      "cell_type": "markdown",
      "metadata": {
        "id": "0Ir6DPsdumvX"
      },
      "source": [
        "### Proper Display"
      ]
    },
    {
      "cell_type": "code",
      "source": [
        "def inspect(results):\n",
        "    movie_1         = [tuple(result[2][0][0])[0] for result in results]\n",
        "    movie_2         = [tuple(result[2][0][1])[0] for result in results]\n",
        "    supports    = [result[1] for result in results]\n",
        "    return list(zip(movie_1, movie_2, supports))\n",
        "resultsinDataFrame = pd.DataFrame(inspect(results), columns = ['Movie 1', 'Movie 2', 'Support'])"
      ],
      "metadata": {
        "id": "8k1cAl_B8x2f"
      },
      "execution_count": 8,
      "outputs": []
    },
    {
      "cell_type": "code",
      "source": [
        "resultsinDataFrame"
      ],
      "metadata": {
        "colab": {
          "base_uri": "https://localhost:8080/",
          "height": 332
        },
        "id": "upcNAhTn81Ef",
        "outputId": "5917112e-0c38-4095-efb2-139babff0384"
      },
      "execution_count": 9,
      "outputs": [
        {
          "output_type": "execute_result",
          "data": {
            "text/plain": [
              "                   Movie 1                   Movie 2   Support\n",
              "0          Captain America             Black Panther  0.003349\n",
              "1          Game of thrones  Comedy nights with Kapil  0.003215\n",
              "2        Kanan Gill Comedy  Comedy nights with Kapil  0.008036\n",
              "3          Game of thrones             Prision Break  0.004554\n",
              "4           Harry Potter 1            Harry Potter 2  0.005759\n",
              "5           Harry Potter 1     The Lord of the rings  0.005090\n",
              "6    crimes of grindelwald            Harry Potter 2  0.005759\n",
              "7             Interstellar                 inception  0.015939\n",
              "8  The Wolf of Wall Street                 inception  0.005358"
            ],
            "text/html": [
              "\n",
              "  <div id=\"df-c3c59cfd-e231-4443-bda6-d9cb446da48c\">\n",
              "    <div class=\"colab-df-container\">\n",
              "      <div>\n",
              "<style scoped>\n",
              "    .dataframe tbody tr th:only-of-type {\n",
              "        vertical-align: middle;\n",
              "    }\n",
              "\n",
              "    .dataframe tbody tr th {\n",
              "        vertical-align: top;\n",
              "    }\n",
              "\n",
              "    .dataframe thead th {\n",
              "        text-align: right;\n",
              "    }\n",
              "</style>\n",
              "<table border=\"1\" class=\"dataframe\">\n",
              "  <thead>\n",
              "    <tr style=\"text-align: right;\">\n",
              "      <th></th>\n",
              "      <th>Movie 1</th>\n",
              "      <th>Movie 2</th>\n",
              "      <th>Support</th>\n",
              "    </tr>\n",
              "  </thead>\n",
              "  <tbody>\n",
              "    <tr>\n",
              "      <th>0</th>\n",
              "      <td>Captain America</td>\n",
              "      <td>Black Panther</td>\n",
              "      <td>0.003349</td>\n",
              "    </tr>\n",
              "    <tr>\n",
              "      <th>1</th>\n",
              "      <td>Game of thrones</td>\n",
              "      <td>Comedy nights with Kapil</td>\n",
              "      <td>0.003215</td>\n",
              "    </tr>\n",
              "    <tr>\n",
              "      <th>2</th>\n",
              "      <td>Kanan Gill Comedy</td>\n",
              "      <td>Comedy nights with Kapil</td>\n",
              "      <td>0.008036</td>\n",
              "    </tr>\n",
              "    <tr>\n",
              "      <th>3</th>\n",
              "      <td>Game of thrones</td>\n",
              "      <td>Prision Break</td>\n",
              "      <td>0.004554</td>\n",
              "    </tr>\n",
              "    <tr>\n",
              "      <th>4</th>\n",
              "      <td>Harry Potter 1</td>\n",
              "      <td>Harry Potter 2</td>\n",
              "      <td>0.005759</td>\n",
              "    </tr>\n",
              "    <tr>\n",
              "      <th>5</th>\n",
              "      <td>Harry Potter 1</td>\n",
              "      <td>The Lord of the rings</td>\n",
              "      <td>0.005090</td>\n",
              "    </tr>\n",
              "    <tr>\n",
              "      <th>6</th>\n",
              "      <td>crimes of grindelwald</td>\n",
              "      <td>Harry Potter 2</td>\n",
              "      <td>0.005759</td>\n",
              "    </tr>\n",
              "    <tr>\n",
              "      <th>7</th>\n",
              "      <td>Interstellar</td>\n",
              "      <td>inception</td>\n",
              "      <td>0.015939</td>\n",
              "    </tr>\n",
              "    <tr>\n",
              "      <th>8</th>\n",
              "      <td>The Wolf of Wall Street</td>\n",
              "      <td>inception</td>\n",
              "      <td>0.005358</td>\n",
              "    </tr>\n",
              "  </tbody>\n",
              "</table>\n",
              "</div>\n",
              "      <button class=\"colab-df-convert\" onclick=\"convertToInteractive('df-c3c59cfd-e231-4443-bda6-d9cb446da48c')\"\n",
              "              title=\"Convert this dataframe to an interactive table.\"\n",
              "              style=\"display:none;\">\n",
              "        \n",
              "  <svg xmlns=\"http://www.w3.org/2000/svg\" height=\"24px\"viewBox=\"0 0 24 24\"\n",
              "       width=\"24px\">\n",
              "    <path d=\"M0 0h24v24H0V0z\" fill=\"none\"/>\n",
              "    <path d=\"M18.56 5.44l.94 2.06.94-2.06 2.06-.94-2.06-.94-.94-2.06-.94 2.06-2.06.94zm-11 1L8.5 8.5l.94-2.06 2.06-.94-2.06-.94L8.5 2.5l-.94 2.06-2.06.94zm10 10l.94 2.06.94-2.06 2.06-.94-2.06-.94-.94-2.06-.94 2.06-2.06.94z\"/><path d=\"M17.41 7.96l-1.37-1.37c-.4-.4-.92-.59-1.43-.59-.52 0-1.04.2-1.43.59L10.3 9.45l-7.72 7.72c-.78.78-.78 2.05 0 2.83L4 21.41c.39.39.9.59 1.41.59.51 0 1.02-.2 1.41-.59l7.78-7.78 2.81-2.81c.8-.78.8-2.07 0-2.86zM5.41 20L4 18.59l7.72-7.72 1.47 1.35L5.41 20z\"/>\n",
              "  </svg>\n",
              "      </button>\n",
              "      \n",
              "  <style>\n",
              "    .colab-df-container {\n",
              "      display:flex;\n",
              "      flex-wrap:wrap;\n",
              "      gap: 12px;\n",
              "    }\n",
              "\n",
              "    .colab-df-convert {\n",
              "      background-color: #E8F0FE;\n",
              "      border: none;\n",
              "      border-radius: 50%;\n",
              "      cursor: pointer;\n",
              "      display: none;\n",
              "      fill: #1967D2;\n",
              "      height: 32px;\n",
              "      padding: 0 0 0 0;\n",
              "      width: 32px;\n",
              "    }\n",
              "\n",
              "    .colab-df-convert:hover {\n",
              "      background-color: #E2EBFA;\n",
              "      box-shadow: 0px 1px 2px rgba(60, 64, 67, 0.3), 0px 1px 3px 1px rgba(60, 64, 67, 0.15);\n",
              "      fill: #174EA6;\n",
              "    }\n",
              "\n",
              "    [theme=dark] .colab-df-convert {\n",
              "      background-color: #3B4455;\n",
              "      fill: #D2E3FC;\n",
              "    }\n",
              "\n",
              "    [theme=dark] .colab-df-convert:hover {\n",
              "      background-color: #434B5C;\n",
              "      box-shadow: 0px 1px 3px 1px rgba(0, 0, 0, 0.15);\n",
              "      filter: drop-shadow(0px 1px 2px rgba(0, 0, 0, 0.3));\n",
              "      fill: #FFFFFF;\n",
              "    }\n",
              "  </style>\n",
              "\n",
              "      <script>\n",
              "        const buttonEl =\n",
              "          document.querySelector('#df-c3c59cfd-e231-4443-bda6-d9cb446da48c button.colab-df-convert');\n",
              "        buttonEl.style.display =\n",
              "          google.colab.kernel.accessAllowed ? 'block' : 'none';\n",
              "\n",
              "        async function convertToInteractive(key) {\n",
              "          const element = document.querySelector('#df-c3c59cfd-e231-4443-bda6-d9cb446da48c');\n",
              "          const dataTable =\n",
              "            await google.colab.kernel.invokeFunction('convertToInteractive',\n",
              "                                                     [key], {});\n",
              "          if (!dataTable) return;\n",
              "\n",
              "          const docLinkHtml = 'Like what you see? Visit the ' +\n",
              "            '<a target=\"_blank\" href=https://colab.research.google.com/notebooks/data_table.ipynb>data table notebook</a>'\n",
              "            + ' to learn more about interactive tables.';\n",
              "          element.innerHTML = '';\n",
              "          dataTable['output_type'] = 'display_data';\n",
              "          await google.colab.output.renderOutput(dataTable, element);\n",
              "          const docLink = document.createElement('div');\n",
              "          docLink.innerHTML = docLinkHtml;\n",
              "          element.appendChild(docLink);\n",
              "        }\n",
              "      </script>\n",
              "    </div>\n",
              "  </div>\n",
              "  "
            ]
          },
          "metadata": {},
          "execution_count": 9
        }
      ]
    },
    {
      "cell_type": "code",
      "source": [
        "resultsinDataFrame.nlargest(n = 10, columns = 'Support')"
      ],
      "metadata": {
        "colab": {
          "base_uri": "https://localhost:8080/",
          "height": 332
        },
        "id": "5yZEUlMw8403",
        "outputId": "fcf5e320-d2a2-4126-b9b2-59329879633a"
      },
      "execution_count": 10,
      "outputs": [
        {
          "output_type": "execute_result",
          "data": {
            "text/plain": [
              "                   Movie 1                   Movie 2   Support\n",
              "7             Interstellar                 inception  0.015939\n",
              "2        Kanan Gill Comedy  Comedy nights with Kapil  0.008036\n",
              "4           Harry Potter 1            Harry Potter 2  0.005759\n",
              "6    crimes of grindelwald            Harry Potter 2  0.005759\n",
              "8  The Wolf of Wall Street                 inception  0.005358\n",
              "5           Harry Potter 1     The Lord of the rings  0.005090\n",
              "3          Game of thrones             Prision Break  0.004554\n",
              "0          Captain America             Black Panther  0.003349\n",
              "1          Game of thrones  Comedy nights with Kapil  0.003215"
            ],
            "text/html": [
              "\n",
              "  <div id=\"df-c395f45d-17ef-4deb-b5b9-eefe29fcf914\">\n",
              "    <div class=\"colab-df-container\">\n",
              "      <div>\n",
              "<style scoped>\n",
              "    .dataframe tbody tr th:only-of-type {\n",
              "        vertical-align: middle;\n",
              "    }\n",
              "\n",
              "    .dataframe tbody tr th {\n",
              "        vertical-align: top;\n",
              "    }\n",
              "\n",
              "    .dataframe thead th {\n",
              "        text-align: right;\n",
              "    }\n",
              "</style>\n",
              "<table border=\"1\" class=\"dataframe\">\n",
              "  <thead>\n",
              "    <tr style=\"text-align: right;\">\n",
              "      <th></th>\n",
              "      <th>Movie 1</th>\n",
              "      <th>Movie 2</th>\n",
              "      <th>Support</th>\n",
              "    </tr>\n",
              "  </thead>\n",
              "  <tbody>\n",
              "    <tr>\n",
              "      <th>7</th>\n",
              "      <td>Interstellar</td>\n",
              "      <td>inception</td>\n",
              "      <td>0.015939</td>\n",
              "    </tr>\n",
              "    <tr>\n",
              "      <th>2</th>\n",
              "      <td>Kanan Gill Comedy</td>\n",
              "      <td>Comedy nights with Kapil</td>\n",
              "      <td>0.008036</td>\n",
              "    </tr>\n",
              "    <tr>\n",
              "      <th>4</th>\n",
              "      <td>Harry Potter 1</td>\n",
              "      <td>Harry Potter 2</td>\n",
              "      <td>0.005759</td>\n",
              "    </tr>\n",
              "    <tr>\n",
              "      <th>6</th>\n",
              "      <td>crimes of grindelwald</td>\n",
              "      <td>Harry Potter 2</td>\n",
              "      <td>0.005759</td>\n",
              "    </tr>\n",
              "    <tr>\n",
              "      <th>8</th>\n",
              "      <td>The Wolf of Wall Street</td>\n",
              "      <td>inception</td>\n",
              "      <td>0.005358</td>\n",
              "    </tr>\n",
              "    <tr>\n",
              "      <th>5</th>\n",
              "      <td>Harry Potter 1</td>\n",
              "      <td>The Lord of the rings</td>\n",
              "      <td>0.005090</td>\n",
              "    </tr>\n",
              "    <tr>\n",
              "      <th>3</th>\n",
              "      <td>Game of thrones</td>\n",
              "      <td>Prision Break</td>\n",
              "      <td>0.004554</td>\n",
              "    </tr>\n",
              "    <tr>\n",
              "      <th>0</th>\n",
              "      <td>Captain America</td>\n",
              "      <td>Black Panther</td>\n",
              "      <td>0.003349</td>\n",
              "    </tr>\n",
              "    <tr>\n",
              "      <th>1</th>\n",
              "      <td>Game of thrones</td>\n",
              "      <td>Comedy nights with Kapil</td>\n",
              "      <td>0.003215</td>\n",
              "    </tr>\n",
              "  </tbody>\n",
              "</table>\n",
              "</div>\n",
              "      <button class=\"colab-df-convert\" onclick=\"convertToInteractive('df-c395f45d-17ef-4deb-b5b9-eefe29fcf914')\"\n",
              "              title=\"Convert this dataframe to an interactive table.\"\n",
              "              style=\"display:none;\">\n",
              "        \n",
              "  <svg xmlns=\"http://www.w3.org/2000/svg\" height=\"24px\"viewBox=\"0 0 24 24\"\n",
              "       width=\"24px\">\n",
              "    <path d=\"M0 0h24v24H0V0z\" fill=\"none\"/>\n",
              "    <path d=\"M18.56 5.44l.94 2.06.94-2.06 2.06-.94-2.06-.94-.94-2.06-.94 2.06-2.06.94zm-11 1L8.5 8.5l.94-2.06 2.06-.94-2.06-.94L8.5 2.5l-.94 2.06-2.06.94zm10 10l.94 2.06.94-2.06 2.06-.94-2.06-.94-.94-2.06-.94 2.06-2.06.94z\"/><path d=\"M17.41 7.96l-1.37-1.37c-.4-.4-.92-.59-1.43-.59-.52 0-1.04.2-1.43.59L10.3 9.45l-7.72 7.72c-.78.78-.78 2.05 0 2.83L4 21.41c.39.39.9.59 1.41.59.51 0 1.02-.2 1.41-.59l7.78-7.78 2.81-2.81c.8-.78.8-2.07 0-2.86zM5.41 20L4 18.59l7.72-7.72 1.47 1.35L5.41 20z\"/>\n",
              "  </svg>\n",
              "      </button>\n",
              "      \n",
              "  <style>\n",
              "    .colab-df-container {\n",
              "      display:flex;\n",
              "      flex-wrap:wrap;\n",
              "      gap: 12px;\n",
              "    }\n",
              "\n",
              "    .colab-df-convert {\n",
              "      background-color: #E8F0FE;\n",
              "      border: none;\n",
              "      border-radius: 50%;\n",
              "      cursor: pointer;\n",
              "      display: none;\n",
              "      fill: #1967D2;\n",
              "      height: 32px;\n",
              "      padding: 0 0 0 0;\n",
              "      width: 32px;\n",
              "    }\n",
              "\n",
              "    .colab-df-convert:hover {\n",
              "      background-color: #E2EBFA;\n",
              "      box-shadow: 0px 1px 2px rgba(60, 64, 67, 0.3), 0px 1px 3px 1px rgba(60, 64, 67, 0.15);\n",
              "      fill: #174EA6;\n",
              "    }\n",
              "\n",
              "    [theme=dark] .colab-df-convert {\n",
              "      background-color: #3B4455;\n",
              "      fill: #D2E3FC;\n",
              "    }\n",
              "\n",
              "    [theme=dark] .colab-df-convert:hover {\n",
              "      background-color: #434B5C;\n",
              "      box-shadow: 0px 1px 3px 1px rgba(0, 0, 0, 0.15);\n",
              "      filter: drop-shadow(0px 1px 2px rgba(0, 0, 0, 0.3));\n",
              "      fill: #FFFFFF;\n",
              "    }\n",
              "  </style>\n",
              "\n",
              "      <script>\n",
              "        const buttonEl =\n",
              "          document.querySelector('#df-c395f45d-17ef-4deb-b5b9-eefe29fcf914 button.colab-df-convert');\n",
              "        buttonEl.style.display =\n",
              "          google.colab.kernel.accessAllowed ? 'block' : 'none';\n",
              "\n",
              "        async function convertToInteractive(key) {\n",
              "          const element = document.querySelector('#df-c395f45d-17ef-4deb-b5b9-eefe29fcf914');\n",
              "          const dataTable =\n",
              "            await google.colab.kernel.invokeFunction('convertToInteractive',\n",
              "                                                     [key], {});\n",
              "          if (!dataTable) return;\n",
              "\n",
              "          const docLinkHtml = 'Like what you see? Visit the ' +\n",
              "            '<a target=\"_blank\" href=https://colab.research.google.com/notebooks/data_table.ipynb>data table notebook</a>'\n",
              "            + ' to learn more about interactive tables.';\n",
              "          element.innerHTML = '';\n",
              "          dataTable['output_type'] = 'display_data';\n",
              "          await google.colab.output.renderOutput(dataTable, element);\n",
              "          const docLink = document.createElement('div');\n",
              "          docLink.innerHTML = docLinkHtml;\n",
              "          element.appendChild(docLink);\n",
              "        }\n",
              "      </script>\n",
              "    </div>\n",
              "  </div>\n",
              "  "
            ]
          },
          "metadata": {},
          "execution_count": 10
        }
      ]
    }
  ]
}